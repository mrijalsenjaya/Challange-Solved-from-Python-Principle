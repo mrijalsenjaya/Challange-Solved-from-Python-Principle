{
  "nbformat": 4,
  "nbformat_minor": 0,
  "metadata": {
    "colab": {
      "provenance": []
    },
    "kernelspec": {
      "name": "python3",
      "display_name": "Python 3"
    },
    "language_info": {
      "name": "python"
    }
  },
  "cells": [
    {
      "cell_type": "markdown",
      "source": [
        "# Anagrams\n",
        "Two strings are anagrams if you can make one from the other by rearranging the letters.\n",
        "\n",
        "Write a function named is_anagram that takes two strings as its parameters. Your function should return True if the strings are anagrams, and False otherwise.\n",
        "\n",
        "For example, the call is_anagram(\"typhoon\", \"opython\") should return True while the call is_anagram(\"Alice\", \"Bob\") should return False."
      ],
      "metadata": {
        "id": "7Ba0DinfG8Q4"
      }
    },
    {
      "cell_type": "code",
      "source": [
        "def is_anagram(x,y):\n",
        "    if sorted(x) == sorted(y):\n",
        "        return True\n",
        "    else:\n",
        "        return False\n",
        "    "
      ],
      "metadata": {
        "id": "7wCZj_NyVXfI"
      },
      "execution_count": 4,
      "outputs": []
    }
  ]
}