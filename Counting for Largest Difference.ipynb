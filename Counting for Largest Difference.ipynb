{
  "nbformat": 4,
  "nbformat_minor": 0,
  "metadata": {
    "colab": {
      "provenance": []
    },
    "kernelspec": {
      "name": "python3",
      "display_name": "Python 3"
    },
    "language_info": {
      "name": "python"
    }
  },
  "cells": [
    {
      "cell_type": "markdown",
      "source": [
        "# Min-maxing\n",
        "Define a function named largest_difference that takes a list of numbers as its only parameter.\n",
        "\n",
        "Your function should compute and return the difference between the largest and smallest number in the list.\n",
        "\n",
        "For example, the call largest_difference([1, 2, 3]) should return 2 because 3 - 1 is 2.\n",
        "\n",
        "You may assume that no numbers are smaller or larger than -100 and 100."
      ],
      "metadata": {
        "id": "7Ba0DinfG8Q4"
      }
    },
    {
      "cell_type": "code",
      "source": [
        "def largest_difference(x):\n",
        "  y = []\n",
        "  for i in x:\n",
        "      if -100 < i < 100:\n",
        "        y.append(i)\n",
        "  y.sort()\n",
        "  return (y[-1] - y[0])\n",
        "    "
      ],
      "metadata": {
        "id": "7wCZj_NyVXfI"
      },
      "execution_count": 5,
      "outputs": []
    }
  ]
}