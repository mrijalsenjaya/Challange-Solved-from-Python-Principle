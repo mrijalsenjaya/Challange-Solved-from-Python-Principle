{
  "nbformat": 4,
  "nbformat_minor": 0,
  "metadata": {
    "colab": {
      "provenance": []
    },
    "kernelspec": {
      "name": "python3",
      "display_name": "Python 3"
    },
    "language_info": {
      "name": "python"
    }
  },
  "cells": [
    {
      "cell_type": "markdown",
      "source": [
        "# Tic tac toe input\n",
        "Here's the backstory for this challenge: imagine you're writing a tic-tac-toe game, where the board looks like this:\n",
        "\n",
        "1:  X | O | X\n",
        "   -----------\n",
        "2:    |   |  \n",
        "   -----------\n",
        "3:  O |   |\n",
        "\n",
        "    A   B  C\n",
        "The board is represented as a 2D list:\n",
        "\n",
        "board = [\n",
        "    [\"X\", \"O\", \"X\"],\n",
        "    [\" \", \" \", \" \"],\n",
        "    [\"O\", \" \", \" \"],\n",
        "]\n",
        "Imagine if your user enters \"C1\" and you need to see if there's an X or O in that cell on the board. To do so, you need to translate from the string \"C1\" to row 0 and column 2 so that you can check board[row][column].\n",
        "\n",
        "Your task is to write a function that can translate from strings of length 2 to a tuple (row, column). Name your function get_row_col; it should take a single parameter which is a string of length 2 consisting of an uppercase letter and a digit.\n",
        "\n",
        "For example, calling get_row_col(\"A3\") should return the tuple (2, 0) because A3 corresponds to the row at index 2 and column at index 0in the board."
      ],
      "metadata": {
        "id": "7Ba0DinfG8Q4"
      }
    },
    {
      "cell_type": "code",
      "source": [
        "kamus={\n",
        "    \"A1\" : (0,0),\n",
        "    \"A2\" : (1,0),\n",
        "    \"A3\" : (2,0),\n",
        "    \"B1\" : (0,1),\n",
        "    \"B2\" : (1,1),\n",
        "    \"B3\" : (2,1),\n",
        "    \"C1\" : (0,2),\n",
        "    \"C2\" : (1.2),\n",
        "    \"C3\" : (2,2)\n",
        "    }\n",
        "    \n",
        "def get_row_col(x):\n",
        "    return kamus.get(x)"
      ],
      "metadata": {
        "id": "7wCZj_NyVXfI"
      },
      "execution_count": 7,
      "outputs": []
    }
  ]
}