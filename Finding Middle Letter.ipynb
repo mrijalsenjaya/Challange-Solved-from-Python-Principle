{
  "nbformat": 4,
  "nbformat_minor": 0,
  "metadata": {
    "colab": {
      "provenance": []
    },
    "kernelspec": {
      "name": "python3",
      "display_name": "Python 3"
    },
    "language_info": {
      "name": "python"
    }
  },
  "cells": [
    {
      "cell_type": "markdown",
      "source": [
        "# Middle letter\n",
        "Write a function named mid that takes a string as its parameter. Your function should extract and return the middle letter. If there is no middle letter, your function should return the empty string.\n",
        "\n",
        "For example, mid(\"abc\") should return \"b\" and mid(\"aaaa\") should return \"\"."
      ],
      "metadata": {
        "id": "7Ba0DinfG8Q4"
      }
    },
    {
      "cell_type": "code",
      "source": [
        "def mid(para):\n",
        "  if len(para) % 2 == 0:\n",
        "    return(\"\")\n",
        "  else:\n",
        "    return(para[len(para)//2])"
      ],
      "metadata": {
        "id": "7wCZj_NyVXfI"
      },
      "execution_count": 5,
      "outputs": []
    },
    {
      "cell_type": "code",
      "source": [
        "mid(\"HeLlO\")"
      ],
      "metadata": {
        "colab": {
          "base_uri": "https://localhost:8080/",
          "height": 35
        },
        "id": "tbicmLlNHJM4",
        "outputId": "7499f3c2-4e39-481b-f268-2586896f19d1"
      },
      "execution_count": 6,
      "outputs": [
        {
          "output_type": "execute_result",
          "data": {
            "text/plain": [
              "'L'"
            ],
            "application/vnd.google.colaboratory.intrinsic+json": {
              "type": "string"
            }
          },
          "metadata": {},
          "execution_count": 6
        }
      ]
    },
    {
      "cell_type": "code",
      "source": [],
      "metadata": {
        "id": "lH8Meir_HOYU"
      },
      "execution_count": null,
      "outputs": []
    }
  ]
}