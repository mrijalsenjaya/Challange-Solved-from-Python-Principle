{
  "nbformat": 4,
  "nbformat_minor": 0,
  "metadata": {
    "colab": {
      "provenance": []
    },
    "kernelspec": {
      "name": "python3",
      "display_name": "Python 3"
    },
    "language_info": {
      "name": "python"
    }
  },
  "cells": [
    {
      "cell_type": "markdown",
      "source": [
        "# Counting syllables\n",
        "Define a function named count that takes a single parameter. The parameter is a string. The string will contain a single word divided into syllables by hyphens, such as these:\n",
        "\n",
        "\"ho-tel\"\n",
        "\"cat\"\n",
        "\"met-a-phor\"\n",
        "\"ter-min-a-tor\"\n",
        "Your function should count the number of syllables and return it.\n",
        "\n",
        "For example, the call count(\"ho-tel\") should return 2."
      ],
      "metadata": {
        "id": "7Ba0DinfG8Q4"
      }
    },
    {
      "cell_type": "code",
      "source": [
        "def count(oke):\n",
        "    x = oke.split('-')\n",
        "    return len(x)\n",
        "    "
      ],
      "metadata": {
        "id": "7wCZj_NyVXfI"
      },
      "execution_count": 3,
      "outputs": []
    }
  ]
}