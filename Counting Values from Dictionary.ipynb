{
  "nbformat": 4,
  "nbformat_minor": 0,
  "metadata": {
    "colab": {
      "provenance": []
    },
    "kernelspec": {
      "name": "python3",
      "display_name": "Python 3"
    },
    "language_info": {
      "name": "python"
    }
  },
  "cells": [
    {
      "cell_type": "markdown",
      "source": [
        "# Online status\n",
        "The aim of this challenge is, given a dictionary of people's online status, to count the number of people who are online.\n",
        "\n",
        "For example, consider the following dictionary:\n",
        "\n",
        "statuses = {\n",
        "    \"Alice\": \"online\",\n",
        "    \"Bob\": \"offline\",\n",
        "    \"Eve\": \"online\"}\n",
        "In this case, the number of people online is 2.\n",
        "\n",
        "Write a function named online_count that takes one parameter. The parameter is a dictionary that maps from strings of names to the string \"online\" or \"offline\", as seen above.\n",
        "\n",
        "Your function should return the number of people who are online."
      ],
      "metadata": {
        "id": "7Ba0DinfG8Q4"
      }
    },
    {
      "cell_type": "code",
      "source": [
        "def online_count(kwargs):\n",
        "    count = 0\n",
        "    for status in kwargs.values():\n",
        "        if status == \"online\":\n",
        "            count += 1\n",
        "    return count"
      ],
      "metadata": {
        "id": "7wCZj_NyVXfI"
      },
      "execution_count": 8,
      "outputs": []
    },
    {
      "cell_type": "code",
      "source": [
        "online_count({ \"Alice\": \"online\", \"Bob\": \"offline\", \"Eve\": \"online\"})"
      ],
      "metadata": {
        "colab": {
          "base_uri": "https://localhost:8080/"
        },
        "id": "tbicmLlNHJM4",
        "outputId": "831dfa71-1811-4235-d2fd-2825549dccae"
      },
      "execution_count": 9,
      "outputs": [
        {
          "output_type": "execute_result",
          "data": {
            "text/plain": [
              "2"
            ]
          },
          "metadata": {},
          "execution_count": 9
        }
      ]
    },
    {
      "cell_type": "code",
      "source": [],
      "metadata": {
        "id": "lH8Meir_HOYU"
      },
      "execution_count": null,
      "outputs": []
    }
  ]
}