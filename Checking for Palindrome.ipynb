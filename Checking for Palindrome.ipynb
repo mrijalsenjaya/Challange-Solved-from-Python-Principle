{
  "nbformat": 4,
  "nbformat_minor": 0,
  "metadata": {
    "colab": {
      "provenance": []
    },
    "kernelspec": {
      "name": "python3",
      "display_name": "Python 3"
    },
    "language_info": {
      "name": "python"
    }
  },
  "cells": [
    {
      "cell_type": "markdown",
      "source": [
        "# Palindrome\n",
        "A string is a palindrome when it is the same when read backwards.\n",
        "\n",
        "For example, the string \"bob\" is a palindrome. So is \"abba\". But the string \"abcd\" is not a palindrome, because \"abcd\" != \"dcba\".\n",
        "\n",
        "Write a function named palindrome that takes a single string as its parameter. Your function should return True if the string is a palindrome, and False otherwise."
      ],
      "metadata": {
        "id": "7Ba0DinfG8Q4"
      }
    },
    {
      "cell_type": "code",
      "source": [
        "def palindrome(x):\n",
        "  y = []\n",
        "  for i in x:\n",
        "    y.append(i)\n",
        "  z = y.copy()\n",
        "  y.reverse()\n",
        "  if y == z:\n",
        "    return True\n",
        "  else:\n",
        "    return False\n",
        "        "
      ],
      "metadata": {
        "id": "7wCZj_NyVXfI"
      },
      "execution_count": 8,
      "outputs": []
    }
  ]
}