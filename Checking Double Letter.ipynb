{
  "nbformat": 4,
  "nbformat_minor": 0,
  "metadata": {
    "colab": {
      "provenance": []
    },
    "kernelspec": {
      "name": "python3",
      "display_name": "Python 3"
    },
    "language_info": {
      "name": "python"
    }
  },
  "cells": [
    {
      "cell_type": "markdown",
      "source": [
        "# Double letters\n",
        "The goal of this challenge is to analyze a string to check if it contains two of the same letter in a row. For example, the string \"hello\" has l twice in a row, while the string \"nono\" does not have two identical letters in a row.\n",
        "\n",
        "Define a function named double_letters that takes a single parameter. The parameter is a string. Your function must return True if there are two identical letters in a row in the string, and False otherwise."
      ],
      "metadata": {
        "id": "7Ba0DinfG8Q4"
      }
    },
    {
      "cell_type": "code",
      "source": [
        "def double_letters(x):\n",
        "    for i in range(len(x)-1):\n",
        "      if x[i] == x[i+1]:\n",
        "          return True  \n",
        "    return False\n",
        "    "
      ],
      "metadata": {
        "id": "7wCZj_NyVXfI"
      },
      "execution_count": 1,
      "outputs": []
    }
  ]
}