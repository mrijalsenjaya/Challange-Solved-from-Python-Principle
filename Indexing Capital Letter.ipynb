{
  "nbformat": 4,
  "nbformat_minor": 0,
  "metadata": {
    "colab": {
      "provenance": []
    },
    "kernelspec": {
      "name": "python3",
      "display_name": "Python 3"
    },
    "language_info": {
      "name": "python"
    }
  },
  "cells": [
    {
      "cell_type": "markdown",
      "source": [
        "# Capital indexes\n",
        "Write a function named capital_indexes. The function takes a single parameter, which is a string. Your function should return a list of all the indexes in the string that have capital letters.\n",
        "\n",
        "For example, calling capital_indexes(\"HeLlO\") should return the list [0, 2, 4]."
      ],
      "metadata": {
        "id": "7Ba0DinfG8Q4"
      }
    },
    {
      "cell_type": "code",
      "source": [
        "z=[]\n",
        "def capital_indexes(kata):\n",
        "    for x,y in enumerate(kata):\n",
        "      if y.isupper():\n",
        "        z.append(x)\n",
        "    return z"
      ],
      "metadata": {
        "id": "7wCZj_NyVXfI"
      },
      "execution_count": 2,
      "outputs": []
    },
    {
      "cell_type": "code",
      "source": [
        "capital_indexes(\"HeLlO\")"
      ],
      "metadata": {
        "colab": {
          "base_uri": "https://localhost:8080/"
        },
        "id": "tbicmLlNHJM4",
        "outputId": "fe43cf59-4fd4-482f-9dc8-764799c36c5c"
      },
      "execution_count": 3,
      "outputs": [
        {
          "output_type": "execute_result",
          "data": {
            "text/plain": [
              "[0, 2, 4]"
            ]
          },
          "metadata": {},
          "execution_count": 3
        }
      ]
    },
    {
      "cell_type": "code",
      "source": [],
      "metadata": {
        "id": "lH8Meir_HOYU"
      },
      "execution_count": null,
      "outputs": []
    }
  ]
}