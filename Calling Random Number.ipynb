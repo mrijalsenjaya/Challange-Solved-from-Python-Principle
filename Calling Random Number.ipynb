{
  "nbformat": 4,
  "nbformat_minor": 0,
  "metadata": {
    "colab": {
      "provenance": []
    },
    "kernelspec": {
      "name": "python3",
      "display_name": "Python 3"
    },
    "language_info": {
      "name": "python"
    }
  },
  "cells": [
    {
      "cell_type": "markdown",
      "source": [
        "#Randomness\n",
        "Define a function, random_number, that takes no parameters. The function must generate a random integer between 1 and 100, both inclusive, and return it.\n",
        "\n",
        "Calling the function multiple times should (usually) return different numbers.\n",
        "\n",
        "For example, calling random_number() some times might first return 42, then 63, then 1."
      ],
      "metadata": {
        "id": "7Ba0DinfG8Q4"
      }
    },
    {
      "cell_type": "code",
      "source": [
        "import random\n",
        "def random_number():\n",
        "    return random.randrange(1,100)"
      ],
      "metadata": {
        "id": "7wCZj_NyVXfI"
      },
      "execution_count": 10,
      "outputs": []
    },
    {
      "cell_type": "code",
      "source": [
        "random_number"
      ],
      "metadata": {
        "colab": {
          "base_uri": "https://localhost:8080/"
        },
        "id": "tbicmLlNHJM4",
        "outputId": "19b4b4d7-e9ae-4744-8569-6fb8a8bf8218"
      },
      "execution_count": 11,
      "outputs": [
        {
          "output_type": "execute_result",
          "data": {
            "text/plain": [
              "<function __main__.random_number()>"
            ]
          },
          "metadata": {},
          "execution_count": 11
        }
      ]
    },
    {
      "cell_type": "code",
      "source": [],
      "metadata": {
        "id": "lH8Meir_HOYU"
      },
      "execution_count": null,
      "outputs": []
    }
  ]
}