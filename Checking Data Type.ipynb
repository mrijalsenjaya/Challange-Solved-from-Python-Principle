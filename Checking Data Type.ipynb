{
  "nbformat": 4,
  "nbformat_minor": 0,
  "metadata": {
    "colab": {
      "provenance": []
    },
    "kernelspec": {
      "name": "python3",
      "display_name": "Python 3"
    },
    "language_info": {
      "name": "python"
    }
  },
  "cells": [
    {
      "cell_type": "markdown",
      "source": [
        "# Type check\n",
        "Write a function named only_ints that takes two parameters. Your function should return True if both parameters are integers, and False otherwise.\n",
        "\n",
        "For example, calling only_ints(1, 2) should return True, while calling only_ints(\"a\", 1) should return False."
      ],
      "metadata": {
        "id": "7Ba0DinfG8Q4"
      }
    },
    {
      "cell_type": "code",
      "source": [
        "def only_ints(x,y):\n",
        "    if type(x) == int and type(y) == int:\n",
        "      return True\n",
        "    else:\n",
        "      return False"
      ],
      "metadata": {
        "id": "7wCZj_NyVXfI"
      },
      "execution_count": 13,
      "outputs": []
    },
    {
      "cell_type": "code",
      "source": [
        "only_ints('a',1)"
      ],
      "metadata": {
        "colab": {
          "base_uri": "https://localhost:8080/"
        },
        "id": "tbicmLlNHJM4",
        "outputId": "324f429d-6166-4cf5-aabc-1e918256580d"
      },
      "execution_count": 14,
      "outputs": [
        {
          "output_type": "execute_result",
          "data": {
            "text/plain": [
              "False"
            ]
          },
          "metadata": {},
          "execution_count": 14
        }
      ]
    },
    {
      "cell_type": "code",
      "source": [],
      "metadata": {
        "id": "lH8Meir_HOYU"
      },
      "execution_count": null,
      "outputs": []
    }
  ]
}