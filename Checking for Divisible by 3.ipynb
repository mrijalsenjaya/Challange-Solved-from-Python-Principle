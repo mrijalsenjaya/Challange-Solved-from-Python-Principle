{
  "nbformat": 4,
  "nbformat_minor": 0,
  "metadata": {
    "colab": {
      "provenance": []
    },
    "kernelspec": {
      "name": "python3",
      "display_name": "Python 3"
    },
    "language_info": {
      "name": "python"
    }
  },
  "cells": [
    {
      "cell_type": "markdown",
      "source": [
        "# Divisible by 3\n",
        "Define a function named div_3 that returns True if its single integer parameter is divisible by 3 and False otherwise.\n",
        "\n",
        "For example, div_3(6) is True because 6/3 does not leave any remainder. However div_3(5) is False because 5/3 leaves 2 as a remainder"
      ],
      "metadata": {
        "id": "7Ba0DinfG8Q4"
      }
    },
    {
      "cell_type": "code",
      "source": [
        "def div_3(x):\n",
        "  if x % 3 == 0:\n",
        "    return True\n",
        "  else:\n",
        "    return False"
      ],
      "metadata": {
        "id": "7wCZj_NyVXfI"
      },
      "execution_count": 6,
      "outputs": []
    }
  ]
}