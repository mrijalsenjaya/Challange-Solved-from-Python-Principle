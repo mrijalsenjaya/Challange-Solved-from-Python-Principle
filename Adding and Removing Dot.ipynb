{
  "nbformat": 4,
  "nbformat_minor": 0,
  "metadata": {
    "colab": {
      "provenance": []
    },
    "kernelspec": {
      "name": "python3",
      "display_name": "Python 3"
    },
    "language_info": {
      "name": "python"
    }
  },
  "cells": [
    {
      "cell_type": "markdown",
      "source": [
        "# Adding and removing dots\n",
        "Write a function named add_dots that takes a string and adds \".\" in between each letter. For example, calling add_dots(\"test\") should return the string \"t.e.s.t\".\n",
        "\n",
        "Then, below the add_dots function, write another function named remove_dots that removes all dots from a string. For example, calling remove_dots(\"t.e.s.t\") should return \"test\".\n",
        "\n",
        "If both functions are correct, calling remove_dots(add_dots(string)) should return back the original string for any string.\n",
        "\n",
        "(You may assume that the input to add_dots does not itself contain any dots.)"
      ],
      "metadata": {
        "id": "7Ba0DinfG8Q4"
      }
    },
    {
      "cell_type": "code",
      "source": [
        "def add_dots(hey):\n",
        "  return '.'.join(hey)\n",
        "def remove_dots(hey):\n",
        "  return hey.replace('.','')\n",
        "    "
      ],
      "metadata": {
        "id": "7wCZj_NyVXfI"
      },
      "execution_count": 2,
      "outputs": []
    }
  ]
}