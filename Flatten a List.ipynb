{
  "nbformat": 4,
  "nbformat_minor": 0,
  "metadata": {
    "colab": {
      "provenance": []
    },
    "kernelspec": {
      "name": "python3",
      "display_name": "Python 3"
    },
    "language_info": {
      "name": "python"
    }
  },
  "cells": [
    {
      "cell_type": "markdown",
      "source": [
        "# Flatten a list\n",
        "Write a function that takes a list of lists and flattens it into a one-dimensional list.\n",
        "\n",
        "Name your function flatten. It should take a single parameter and return a list.\n",
        "\n",
        "For example, calling:\n",
        "\n",
        "flatten([[1, 2], [3, 4]])\n",
        "Should return the list:\n",
        "\n",
        "[1, 2, 3, 4]"
      ],
      "metadata": {
        "id": "7Ba0DinfG8Q4"
      }
    },
    {
      "cell_type": "code",
      "source": [
        "def flatten(x):\n",
        "    y = list(item for i in x for item in i)\n",
        "    return y\n",
        "    "
      ],
      "metadata": {
        "id": "7wCZj_NyVXfI"
      },
      "execution_count": 5,
      "outputs": []
    }
  ]
}